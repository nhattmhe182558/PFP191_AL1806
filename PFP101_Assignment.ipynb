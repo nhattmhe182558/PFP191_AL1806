{
  "nbformat": 4,
  "nbformat_minor": 0,
  "metadata": {
    "colab": {
      "provenance": [],
      "toc_visible": true,
      "authorship_tag": "ABX9TyMDmtjo26T7mwrq6Hs5VmgG",
      "include_colab_link": true
    },
    "kernelspec": {
      "name": "python3",
      "display_name": "Python 3"
    },
    "language_info": {
      "name": "python"
    }
  },
  "cells": [
    {
      "cell_type": "markdown",
      "metadata": {
        "id": "view-in-github",
        "colab_type": "text"
      },
      "source": [
        "<a href=\"https://colab.research.google.com/github/nhattmhe182558/PFP191_AL1806/blob/main/PFP101_Assignment.ipynb\" target=\"_parent\"><img src=\"https://colab.research.google.com/assets/colab-badge.svg\" alt=\"Open In Colab\"/></a>"
      ]
    },
    {
      "cell_type": "markdown",
      "source": [
        "# Giai thừa một số"
      ],
      "metadata": {
        "id": "_fTlZCdwBs-e"
      }
    },
    {
      "cell_type": "code",
      "execution_count": null,
      "metadata": {
        "colab": {
          "base_uri": "https://localhost:8080/"
        },
        "id": "y1-9hErr8Eee",
        "outputId": "e37b391c-6c91-424c-c4ac-187c4b8bdcee"
      },
      "outputs": [
        {
          "output_type": "stream",
          "name": "stdout",
          "text": [
            "n=3\n",
            "6\n"
          ]
        }
      ],
      "source": [
        "n = int(input(\"n=\"))\n",
        "giai_thua = 1\n",
        "if (n == 0 or n == 1):\n",
        "  giai_thua = 1\n",
        "else:\n",
        "  for i in range(2, n + 1):\n",
        "    giai_thua = giai_thua*i\n",
        "print(giai_thua)"
      ]
    },
    {
      "cell_type": "markdown",
      "source": [
        "# Ước chung lớn nhất"
      ],
      "metadata": {
        "id": "YdPebV1KNF99"
      }
    },
    {
      "cell_type": "code",
      "source": [
        "a = int(input(\"a=\"))\n",
        "b = int(input(\"b=\"))\n",
        "while b != 0:\n",
        "  temp = a % b\n",
        "  a = b\n",
        "  b = temp\n",
        "print(a)"
      ],
      "metadata": {
        "colab": {
          "base_uri": "https://localhost:8080/"
        },
        "id": "BCt2tSdNNL-k",
        "outputId": "49b1b124-fa2b-441a-afd2-09aa8d7ff8f8"
      },
      "execution_count": null,
      "outputs": [
        {
          "output_type": "stream",
          "name": "stdout",
          "text": [
            "a=6\n",
            "b=12\n",
            "6\n"
          ]
        }
      ]
    },
    {
      "cell_type": "markdown",
      "source": [
        "# Pay computation"
      ],
      "metadata": {
        "id": "ADzrCXgxOWSn"
      }
    },
    {
      "cell_type": "code",
      "source": [
        "Hour = input(\"Enter Hours:\")\n",
        "Valid_num = 1\n",
        "try:\n",
        "  Hour = float(Hour)\n",
        "except ValueError:\n",
        "  Valid_num = 0\n",
        "if Valid_num == 1:\n",
        "  Rate = input(\"Enter Rate:\")\n",
        "  try:\n",
        "    Rate = float(Rate)\n",
        "  except ValueError:\n",
        "    Valid_num = 0\n",
        "if Valid_num == 1:\n",
        "  OT = Hour - 40\n",
        "  if OT > 0:\n",
        "    Pay = OT * Rate * 1.5 + (Hour-OT) * Rate\n",
        "    print(Pay)\n",
        "  else: \n",
        "    Pay = Hour * Rate\n",
        "    print(Pay)\n",
        "if Valid_num == 0: \n",
        "  print(\"Error, please enter numeric input\")\n",
        "\n"
      ],
      "metadata": {
        "colab": {
          "base_uri": "https://localhost:8080/"
        },
        "id": "RQtFIWU2PKGs",
        "outputId": "9aabdba4-a3d6-48ac-b057-b20e84a4aae4"
      },
      "execution_count": null,
      "outputs": [
        {
          "output_type": "stream",
          "name": "stdout",
          "text": [
            "Enter Hours:45\n",
            "Enter Rate:10\n",
            "475.0\n"
          ]
        }
      ]
    },
    {
      "cell_type": "markdown",
      "source": [
        "# Short and Sort array"
      ],
      "metadata": {
        "id": "Ff1neEMIXFoF"
      }
    },
    {
      "cell_type": "code",
      "source": [
        "a = []\n",
        "n = int(input())\n",
        "for i in range(0,n):\n",
        "  input_num = input()\n",
        "  a.append(input_num)\n",
        "a = list(set(a))\n",
        "a.sort()\n",
        "for i in range(0,len(a)):\n",
        "  print(a[i])"
      ],
      "metadata": {
        "colab": {
          "base_uri": "https://localhost:8080/"
        },
        "id": "5ZZVBmNUXKr-",
        "outputId": "d923601c-e8b1-41a9-e534-53c3a3c2ee87"
      },
      "execution_count": null,
      "outputs": [
        {
          "output_type": "stream",
          "name": "stdout",
          "text": [
            "4\n",
            "1\n",
            "4\n",
            "3\n",
            "4\n",
            "1\n",
            "3\n",
            "4\n"
          ]
        }
      ]
    }
  ]
}